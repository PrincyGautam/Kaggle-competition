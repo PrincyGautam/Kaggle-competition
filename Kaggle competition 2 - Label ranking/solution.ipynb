{
 "cells": [
  {
   "cell_type": "code",
   "execution_count": 1,
   "id": "5414bb6d",
   "metadata": {
    "_cell_guid": "b1076dfc-b9ad-4769-8c92-a6c4dae69d19",
    "_uuid": "8f2839f25d086af736a60e9eeb907d3b93b6e0e5",
    "execution": {
     "iopub.execute_input": "2021-11-10T18:34:21.230646Z",
     "iopub.status.busy": "2021-11-10T18:34:21.229413Z",
     "iopub.status.idle": "2021-11-10T18:34:21.250879Z",
     "shell.execute_reply": "2021-11-10T18:34:21.250120Z",
     "shell.execute_reply.started": "2021-11-10T17:16:07.346558Z"
    },
    "papermill": {
     "duration": 0.049709,
     "end_time": "2021-11-10T18:34:21.251055",
     "exception": false,
     "start_time": "2021-11-10T18:34:21.201346",
     "status": "completed"
    },
    "tags": []
   },
   "outputs": [
    {
     "name": "stdout",
     "output_type": "stream",
     "text": [
      "/kaggle/input/dataset-jeeva-singh/TestFeatures.txt\n",
      "/kaggle/input/dataset-jeeva-singh/TrainClasses.txt\n",
      "/kaggle/input/dataset-jeeva-singh/TrainFeatures.txt\n",
      "/kaggle/input/kagglec2/TestFeatures.txt\n",
      "/kaggle/input/kagglec2/TrainClasses.txt\n",
      "/kaggle/input/kagglec2/SampleSubmission.csv\n",
      "/kaggle/input/kagglec2/TrainFeatures.txt\n"
     ]
    }
   ],
   "source": [
    "# This Python 3 environment comes with many helpful analytics libraries installed\n",
    "# It is defined by the kaggle/python Docker image: https://github.com/kaggle/docker-python\n",
    "# For example, here's several helpful packages to load\n",
    "\n",
    "import numpy as np # linear algebra\n",
    "import pandas as pd # data processing, CSV file I/O (e.g. pd.read_csv)\n",
    "\n",
    "# Input data files are available in the read-only \"../input/\" directory\n",
    "# For example, running this (by clicking run or pressing Shift+Enter) will list all files under the input directory\n",
    "\n",
    "import os\n",
    "for dirname, _, filenames in os.walk('/kaggle/input'):\n",
    "    for filename in filenames:\n",
    "        print(os.path.join(dirname, filename))\n",
    "\n",
    "# You can write up to 20GB to the current directory (/kaggle/working/) that gets preserved as output when you create a version using \"Save & Run All\" \n",
    "# You can also write temporary files to /kaggle/temp/, but they won't be saved outside of the current session"
   ]
  },
  {
   "cell_type": "code",
   "execution_count": 2,
   "id": "78a3287c",
   "metadata": {
    "execution": {
     "iopub.execute_input": "2021-11-10T18:34:21.300659Z",
     "iopub.status.busy": "2021-11-10T18:34:21.299962Z",
     "iopub.status.idle": "2021-11-10T18:34:22.211519Z",
     "shell.execute_reply": "2021-11-10T18:34:22.212062Z",
     "shell.execute_reply.started": "2021-11-10T17:16:07.366781Z"
    },
    "papermill": {
     "duration": 0.939218,
     "end_time": "2021-11-10T18:34:22.212236",
     "exception": false,
     "start_time": "2021-11-10T18:34:21.273018",
     "status": "completed"
    },
    "tags": []
   },
   "outputs": [],
   "source": [
    "import pandas as pd\n",
    "train_features=pd.read_csv(\"../input/dataset-jeeva-singh/TrainFeatures.txt\",sep=\" \",header=None)\n",
    "train_classes=pd.read_csv(\"../input/dataset-jeeva-singh/TrainClasses.txt\",header=None)\n",
    "test_features=pd.read_csv(\"../input/dataset-jeeva-singh/TestFeatures.txt\",sep=\" \",header=None)"
   ]
  },
  {
   "cell_type": "code",
   "execution_count": 3,
   "id": "4fa21143",
   "metadata": {
    "execution": {
     "iopub.execute_input": "2021-11-10T18:34:22.262974Z",
     "iopub.status.busy": "2021-11-10T18:34:22.262236Z",
     "iopub.status.idle": "2021-11-10T18:34:22.290052Z",
     "shell.execute_reply": "2021-11-10T18:34:22.290542Z",
     "shell.execute_reply.started": "2021-11-10T17:16:07.979552Z"
    },
    "papermill": {
     "duration": 0.056884,
     "end_time": "2021-11-10T18:34:22.290719",
     "exception": false,
     "start_time": "2021-11-10T18:34:22.233835",
     "status": "completed"
    },
    "tags": []
   },
   "outputs": [
    {
     "data": {
      "text/html": [
       "<div>\n",
       "<style scoped>\n",
       "    .dataframe tbody tr th:only-of-type {\n",
       "        vertical-align: middle;\n",
       "    }\n",
       "\n",
       "    .dataframe tbody tr th {\n",
       "        vertical-align: top;\n",
       "    }\n",
       "\n",
       "    .dataframe thead th {\n",
       "        text-align: right;\n",
       "    }\n",
       "</style>\n",
       "<table border=\"1\" class=\"dataframe\">\n",
       "  <thead>\n",
       "    <tr style=\"text-align: right;\">\n",
       "      <th></th>\n",
       "      <th>0</th>\n",
       "      <th>1</th>\n",
       "      <th>2</th>\n",
       "      <th>3</th>\n",
       "      <th>4</th>\n",
       "      <th>5</th>\n",
       "      <th>6</th>\n",
       "      <th>7</th>\n",
       "      <th>8</th>\n",
       "      <th>9</th>\n",
       "      <th>...</th>\n",
       "      <th>190</th>\n",
       "      <th>191</th>\n",
       "      <th>192</th>\n",
       "      <th>193</th>\n",
       "      <th>194</th>\n",
       "      <th>195</th>\n",
       "      <th>196</th>\n",
       "      <th>197</th>\n",
       "      <th>198</th>\n",
       "      <th>199</th>\n",
       "    </tr>\n",
       "  </thead>\n",
       "  <tbody>\n",
       "    <tr>\n",
       "      <th>9995</th>\n",
       "      <td>0.023267</td>\n",
       "      <td>0.063225</td>\n",
       "      <td>0.067079</td>\n",
       "      <td>0.043156</td>\n",
       "      <td>0.012275</td>\n",
       "      <td>0.020946</td>\n",
       "      <td>0.026465</td>\n",
       "      <td>0.015329</td>\n",
       "      <td>0.112804</td>\n",
       "      <td>0.092428</td>\n",
       "      <td>...</td>\n",
       "      <td>0.010899</td>\n",
       "      <td>0.018082</td>\n",
       "      <td>0.052205</td>\n",
       "      <td>0.019474</td>\n",
       "      <td>0.052442</td>\n",
       "      <td>0.047984</td>\n",
       "      <td>0.043501</td>\n",
       "      <td>0.091776</td>\n",
       "      <td>0.008960</td>\n",
       "      <td>0.021924</td>\n",
       "    </tr>\n",
       "    <tr>\n",
       "      <th>9996</th>\n",
       "      <td>0.025613</td>\n",
       "      <td>0.049377</td>\n",
       "      <td>0.076124</td>\n",
       "      <td>0.008096</td>\n",
       "      <td>0.066318</td>\n",
       "      <td>0.022937</td>\n",
       "      <td>0.051316</td>\n",
       "      <td>0.011766</td>\n",
       "      <td>0.029357</td>\n",
       "      <td>0.039165</td>\n",
       "      <td>...</td>\n",
       "      <td>0.017730</td>\n",
       "      <td>0.011577</td>\n",
       "      <td>0.025716</td>\n",
       "      <td>0.023431</td>\n",
       "      <td>0.059432</td>\n",
       "      <td>0.044218</td>\n",
       "      <td>0.039820</td>\n",
       "      <td>0.108721</td>\n",
       "      <td>0.027408</td>\n",
       "      <td>0.016900</td>\n",
       "    </tr>\n",
       "    <tr>\n",
       "      <th>9997</th>\n",
       "      <td>0.035884</td>\n",
       "      <td>0.087389</td>\n",
       "      <td>0.072112</td>\n",
       "      <td>0.081108</td>\n",
       "      <td>0.082861</td>\n",
       "      <td>0.058282</td>\n",
       "      <td>0.061217</td>\n",
       "      <td>0.041205</td>\n",
       "      <td>0.060498</td>\n",
       "      <td>0.097307</td>\n",
       "      <td>...</td>\n",
       "      <td>0.075531</td>\n",
       "      <td>0.042883</td>\n",
       "      <td>0.070922</td>\n",
       "      <td>0.049104</td>\n",
       "      <td>0.076102</td>\n",
       "      <td>0.070030</td>\n",
       "      <td>0.042763</td>\n",
       "      <td>0.107346</td>\n",
       "      <td>0.047299</td>\n",
       "      <td>0.072982</td>\n",
       "    </tr>\n",
       "    <tr>\n",
       "      <th>9998</th>\n",
       "      <td>0.008044</td>\n",
       "      <td>0.030172</td>\n",
       "      <td>0.066806</td>\n",
       "      <td>0.014249</td>\n",
       "      <td>0.009299</td>\n",
       "      <td>0.007823</td>\n",
       "      <td>0.022588</td>\n",
       "      <td>0.003753</td>\n",
       "      <td>0.009586</td>\n",
       "      <td>0.032133</td>\n",
       "      <td>...</td>\n",
       "      <td>0.009673</td>\n",
       "      <td>0.007298</td>\n",
       "      <td>0.018201</td>\n",
       "      <td>0.007521</td>\n",
       "      <td>0.020895</td>\n",
       "      <td>0.041516</td>\n",
       "      <td>0.030444</td>\n",
       "      <td>0.086459</td>\n",
       "      <td>0.005180</td>\n",
       "      <td>0.006199</td>\n",
       "    </tr>\n",
       "    <tr>\n",
       "      <th>9999</th>\n",
       "      <td>0.033488</td>\n",
       "      <td>0.037450</td>\n",
       "      <td>0.091074</td>\n",
       "      <td>0.042755</td>\n",
       "      <td>0.061733</td>\n",
       "      <td>0.051492</td>\n",
       "      <td>0.031995</td>\n",
       "      <td>0.022445</td>\n",
       "      <td>0.018725</td>\n",
       "      <td>0.042438</td>\n",
       "      <td>...</td>\n",
       "      <td>0.035355</td>\n",
       "      <td>0.056088</td>\n",
       "      <td>0.040226</td>\n",
       "      <td>0.091867</td>\n",
       "      <td>0.032912</td>\n",
       "      <td>0.077821</td>\n",
       "      <td>0.070385</td>\n",
       "      <td>0.102539</td>\n",
       "      <td>0.059793</td>\n",
       "      <td>0.050657</td>\n",
       "    </tr>\n",
       "  </tbody>\n",
       "</table>\n",
       "<p>5 rows × 200 columns</p>\n",
       "</div>"
      ],
      "text/plain": [
       "           0         1         2         3         4         5         6    \\\n",
       "9995  0.023267  0.063225  0.067079  0.043156  0.012275  0.020946  0.026465   \n",
       "9996  0.025613  0.049377  0.076124  0.008096  0.066318  0.022937  0.051316   \n",
       "9997  0.035884  0.087389  0.072112  0.081108  0.082861  0.058282  0.061217   \n",
       "9998  0.008044  0.030172  0.066806  0.014249  0.009299  0.007823  0.022588   \n",
       "9999  0.033488  0.037450  0.091074  0.042755  0.061733  0.051492  0.031995   \n",
       "\n",
       "           7         8         9    ...       190       191       192  \\\n",
       "9995  0.015329  0.112804  0.092428  ...  0.010899  0.018082  0.052205   \n",
       "9996  0.011766  0.029357  0.039165  ...  0.017730  0.011577  0.025716   \n",
       "9997  0.041205  0.060498  0.097307  ...  0.075531  0.042883  0.070922   \n",
       "9998  0.003753  0.009586  0.032133  ...  0.009673  0.007298  0.018201   \n",
       "9999  0.022445  0.018725  0.042438  ...  0.035355  0.056088  0.040226   \n",
       "\n",
       "           193       194       195       196       197       198       199  \n",
       "9995  0.019474  0.052442  0.047984  0.043501  0.091776  0.008960  0.021924  \n",
       "9996  0.023431  0.059432  0.044218  0.039820  0.108721  0.027408  0.016900  \n",
       "9997  0.049104  0.076102  0.070030  0.042763  0.107346  0.047299  0.072982  \n",
       "9998  0.007521  0.020895  0.041516  0.030444  0.086459  0.005180  0.006199  \n",
       "9999  0.091867  0.032912  0.077821  0.070385  0.102539  0.059793  0.050657  \n",
       "\n",
       "[5 rows x 200 columns]"
      ]
     },
     "execution_count": 3,
     "metadata": {},
     "output_type": "execute_result"
    }
   ],
   "source": [
    "train_features.tail()"
   ]
  },
  {
   "cell_type": "code",
   "execution_count": 4,
   "id": "09e000df",
   "metadata": {
    "execution": {
     "iopub.execute_input": "2021-11-10T18:34:22.339156Z",
     "iopub.status.busy": "2021-11-10T18:34:22.338182Z",
     "iopub.status.idle": "2021-11-10T18:34:22.344077Z",
     "shell.execute_reply": "2021-11-10T18:34:22.343514Z",
     "shell.execute_reply.started": "2021-11-10T17:16:08.007277Z"
    },
    "papermill": {
     "duration": 0.031105,
     "end_time": "2021-11-10T18:34:22.344211",
     "exception": false,
     "start_time": "2021-11-10T18:34:22.313106",
     "status": "completed"
    },
    "tags": []
   },
   "outputs": [
    {
     "data": {
      "text/plain": [
       "(10000, 200)"
      ]
     },
     "execution_count": 4,
     "metadata": {},
     "output_type": "execute_result"
    }
   ],
   "source": [
    "train_features.shape"
   ]
  },
  {
   "cell_type": "code",
   "execution_count": 5,
   "id": "3b73c7d6",
   "metadata": {
    "execution": {
     "iopub.execute_input": "2021-11-10T18:34:22.393036Z",
     "iopub.status.busy": "2021-11-10T18:34:22.392066Z",
     "iopub.status.idle": "2021-11-10T18:34:22.399880Z",
     "shell.execute_reply": "2021-11-10T18:34:22.400486Z",
     "shell.execute_reply.started": "2021-11-10T17:16:08.017043Z"
    },
    "papermill": {
     "duration": 0.033836,
     "end_time": "2021-11-10T18:34:22.400654",
     "exception": false,
     "start_time": "2021-11-10T18:34:22.366818",
     "status": "completed"
    },
    "tags": []
   },
   "outputs": [
    {
     "data": {
      "text/html": [
       "<div>\n",
       "<style scoped>\n",
       "    .dataframe tbody tr th:only-of-type {\n",
       "        vertical-align: middle;\n",
       "    }\n",
       "\n",
       "    .dataframe tbody tr th {\n",
       "        vertical-align: top;\n",
       "    }\n",
       "\n",
       "    .dataframe thead th {\n",
       "        text-align: right;\n",
       "    }\n",
       "</style>\n",
       "<table border=\"1\" class=\"dataframe\">\n",
       "  <thead>\n",
       "    <tr style=\"text-align: right;\">\n",
       "      <th></th>\n",
       "      <th>0</th>\n",
       "    </tr>\n",
       "  </thead>\n",
       "  <tbody>\n",
       "    <tr>\n",
       "      <th>9995</th>\n",
       "      <td>11</td>\n",
       "    </tr>\n",
       "    <tr>\n",
       "      <th>9996</th>\n",
       "      <td>45</td>\n",
       "    </tr>\n",
       "    <tr>\n",
       "      <th>9997</th>\n",
       "      <td>68</td>\n",
       "    </tr>\n",
       "    <tr>\n",
       "      <th>9998</th>\n",
       "      <td>26</td>\n",
       "    </tr>\n",
       "    <tr>\n",
       "      <th>9999</th>\n",
       "      <td>13</td>\n",
       "    </tr>\n",
       "  </tbody>\n",
       "</table>\n",
       "</div>"
      ],
      "text/plain": [
       "       0\n",
       "9995  11\n",
       "9996  45\n",
       "9997  68\n",
       "9998  26\n",
       "9999  13"
      ]
     },
     "execution_count": 5,
     "metadata": {},
     "output_type": "execute_result"
    }
   ],
   "source": [
    "train_classes.tail()"
   ]
  },
  {
   "cell_type": "code",
   "execution_count": 6,
   "id": "c33ea74d",
   "metadata": {
    "execution": {
     "iopub.execute_input": "2021-11-10T18:34:22.449995Z",
     "iopub.status.busy": "2021-11-10T18:34:22.449032Z",
     "iopub.status.idle": "2021-11-10T18:34:22.454304Z",
     "shell.execute_reply": "2021-11-10T18:34:22.454904Z",
     "shell.execute_reply.started": "2021-11-10T17:16:08.035249Z"
    },
    "papermill": {
     "duration": 0.031572,
     "end_time": "2021-11-10T18:34:22.455065",
     "exception": false,
     "start_time": "2021-11-10T18:34:22.423493",
     "status": "completed"
    },
    "tags": []
   },
   "outputs": [
    {
     "data": {
      "text/plain": [
       "(10000, 1)"
      ]
     },
     "execution_count": 6,
     "metadata": {},
     "output_type": "execute_result"
    }
   ],
   "source": [
    "train_classes.shape"
   ]
  },
  {
   "cell_type": "code",
   "execution_count": 7,
   "id": "261ea7dd",
   "metadata": {
    "execution": {
     "iopub.execute_input": "2021-11-10T18:34:22.504986Z",
     "iopub.status.busy": "2021-11-10T18:34:22.504050Z",
     "iopub.status.idle": "2021-11-10T18:34:23.391684Z",
     "shell.execute_reply": "2021-11-10T18:34:23.390967Z",
     "shell.execute_reply.started": "2021-11-10T17:16:08.050866Z"
    },
    "papermill": {
     "duration": 0.913858,
     "end_time": "2021-11-10T18:34:23.391833",
     "exception": false,
     "start_time": "2021-11-10T18:34:22.477975",
     "status": "completed"
    },
    "tags": []
   },
   "outputs": [],
   "source": [
    "from sklearn.preprocessing import StandardScaler\n",
    "scaler = StandardScaler()\n",
    "model = scaler.fit(train_features)\n",
    "train_features = model.transform(train_features)"
   ]
  },
  {
   "cell_type": "code",
   "execution_count": 8,
   "id": "d2d4238e",
   "metadata": {
    "execution": {
     "iopub.execute_input": "2021-11-10T18:34:23.446620Z",
     "iopub.status.busy": "2021-11-10T18:34:23.445976Z",
     "iopub.status.idle": "2021-11-10T18:34:23.453573Z",
     "shell.execute_reply": "2021-11-10T18:34:23.452924Z",
     "shell.execute_reply.started": "2021-11-10T17:16:08.106858Z"
    },
    "papermill": {
     "duration": 0.038671,
     "end_time": "2021-11-10T18:34:23.453713",
     "exception": false,
     "start_time": "2021-11-10T18:34:23.415042",
     "status": "completed"
    },
    "tags": []
   },
   "outputs": [],
   "source": [
    "from sklearn.preprocessing import StandardScaler\n",
    "scaler = StandardScaler()\n",
    "model = scaler.fit(test_features)\n",
    "test_X = model.transform(test_features)"
   ]
  },
  {
   "cell_type": "code",
   "execution_count": 9,
   "id": "6cd33189",
   "metadata": {
    "execution": {
     "iopub.execute_input": "2021-11-10T18:34:23.505178Z",
     "iopub.status.busy": "2021-11-10T18:34:23.504460Z",
     "iopub.status.idle": "2021-11-10T18:34:23.582575Z",
     "shell.execute_reply": "2021-11-10T18:34:23.581994Z",
     "shell.execute_reply.started": "2021-11-10T17:16:08.121457Z"
    },
    "papermill": {
     "duration": 0.105778,
     "end_time": "2021-11-10T18:34:23.582735",
     "exception": false,
     "start_time": "2021-11-10T18:34:23.476957",
     "status": "completed"
    },
    "tags": []
   },
   "outputs": [],
   "source": [
    "from sklearn.model_selection import train_test_split\n",
    "train_X,valid_X,train_Y,valid_Y = train_test_split(train_features, train_classes, test_size=0.3, random_state=13)"
   ]
  },
  {
   "cell_type": "code",
   "execution_count": 10,
   "id": "f1d2531e",
   "metadata": {
    "execution": {
     "iopub.execute_input": "2021-11-10T18:34:23.635985Z",
     "iopub.status.busy": "2021-11-10T18:34:23.634804Z",
     "iopub.status.idle": "2021-11-10T18:34:28.834738Z",
     "shell.execute_reply": "2021-11-10T18:34:28.834029Z",
     "shell.execute_reply.started": "2021-11-10T17:16:08.151936Z"
    },
    "papermill": {
     "duration": 5.228843,
     "end_time": "2021-11-10T18:34:28.834890",
     "exception": false,
     "start_time": "2021-11-10T18:34:23.606047",
     "status": "completed"
    },
    "tags": []
   },
   "outputs": [],
   "source": [
    "import keras\n",
    "from keras.models import Sequential,Input,Model\n",
    "from keras.layers import Dense, Dropout, Flatten\n",
    "from keras.layers import Conv2D, MaxPooling2D,Reshape\n",
    "from keras.layers.advanced_activations import LeakyReLU"
   ]
  },
  {
   "cell_type": "code",
   "execution_count": 11,
   "id": "eb8c71f7",
   "metadata": {
    "execution": {
     "iopub.execute_input": "2021-11-10T18:34:28.886156Z",
     "iopub.status.busy": "2021-11-10T18:34:28.885424Z",
     "iopub.status.idle": "2021-11-10T18:34:29.258956Z",
     "shell.execute_reply": "2021-11-10T18:34:29.258380Z",
     "shell.execute_reply.started": "2021-11-10T17:16:08.159463Z"
    },
    "papermill": {
     "duration": 0.400995,
     "end_time": "2021-11-10T18:34:29.259107",
     "exception": false,
     "start_time": "2021-11-10T18:34:28.858112",
     "status": "completed"
    },
    "tags": []
   },
   "outputs": [],
   "source": [
    "from tensorflow.keras.utils import to_categorical\n",
    "train_y= to_categorical(train_Y)\n",
    "valid_y=to_categorical(valid_Y)"
   ]
  },
  {
   "cell_type": "code",
   "execution_count": 12,
   "id": "59b14787",
   "metadata": {
    "execution": {
     "iopub.execute_input": "2021-11-10T18:34:29.311202Z",
     "iopub.status.busy": "2021-11-10T18:34:29.310533Z",
     "iopub.status.idle": "2021-11-10T18:34:29.313375Z",
     "shell.execute_reply": "2021-11-10T18:34:29.312813Z",
     "shell.execute_reply.started": "2021-11-10T17:16:08.178785Z"
    },
    "papermill": {
     "duration": 0.030954,
     "end_time": "2021-11-10T18:34:29.313527",
     "exception": false,
     "start_time": "2021-11-10T18:34:29.282573",
     "status": "completed"
    },
    "tags": []
   },
   "outputs": [],
   "source": [
    "train_x=train_X.reshape(7000,20,10,1)\n",
    "valid_x=valid_X.reshape(3000,20,10,1)"
   ]
  },
  {
   "cell_type": "code",
   "execution_count": 13,
   "id": "8550a88d",
   "metadata": {
    "execution": {
     "iopub.execute_input": "2021-11-10T18:34:29.370149Z",
     "iopub.status.busy": "2021-11-10T18:34:29.369415Z",
     "iopub.status.idle": "2021-11-10T18:34:29.695003Z",
     "shell.execute_reply": "2021-11-10T18:34:29.695517Z",
     "shell.execute_reply.started": "2021-11-10T17:16:08.191523Z"
    },
    "papermill": {
     "duration": 0.358856,
     "end_time": "2021-11-10T18:34:29.695689",
     "exception": false,
     "start_time": "2021-11-10T18:34:29.336833",
     "status": "completed"
    },
    "tags": []
   },
   "outputs": [
    {
     "name": "stderr",
     "output_type": "stream",
     "text": [
      "\n",
      "User settings:\n",
      "\n",
      "   KMP_AFFINITY=granularity=fine,verbose,compact,1,0\n",
      "   KMP_BLOCKTIME=0\n",
      "   KMP_DUPLICATE_LIB_OK=True\n",
      "   KMP_INIT_AT_FORK=FALSE\n",
      "   KMP_SETTINGS=1\n",
      "   KMP_WARNINGS=0\n",
      "\n",
      "Effective settings:\n",
      "\n",
      "   KMP_ABORT_DELAY=0\n",
      "   KMP_ADAPTIVE_LOCK_PROPS='1,1024'\n",
      "   KMP_ALIGN_ALLOC=64\n",
      "   KMP_ALL_THREADPRIVATE=128\n",
      "   KMP_ATOMIC_MODE=2\n",
      "   KMP_BLOCKTIME=0\n",
      "   KMP_CPUINFO_FILE: value is not defined\n",
      "   KMP_DETERMINISTIC_REDUCTION=false\n",
      "   KMP_DEVICE_THREAD_LIMIT=2147483647\n",
      "   KMP_DISP_NUM_BUFFERS=7\n",
      "   KMP_DUPLICATE_LIB_OK=true\n",
      "   KMP_ENABLE_TASK_THROTTLING=true\n",
      "   KMP_FORCE_REDUCTION: value is not defined\n",
      "   KMP_FOREIGN_THREADS_THREADPRIVATE=true\n",
      "   KMP_FORKJOIN_BARRIER='2,2'\n",
      "   KMP_FORKJOIN_BARRIER_PATTERN='hyper,hyper'\n",
      "   KMP_GTID_MODE=3\n",
      "   KMP_HANDLE_SIGNALS=false\n",
      "   KMP_HOT_TEAMS_MAX_LEVEL=1\n",
      "   KMP_HOT_TEAMS_MODE=0\n",
      "   KMP_INIT_AT_FORK=true\n",
      "   KMP_LIBRARY=throughput\n",
      "   KMP_LOCK_KIND=queuing\n",
      "   KMP_MALLOC_POOL_INCR=1M\n",
      "   KMP_NUM_LOCKS_IN_BLOCK=1\n",
      "   KMP_PLAIN_BARRIER='2,2'\n",
      "   KMP_PLAIN_BARRIER_PATTERN='hyper,hyper'\n",
      "   KMP_REDUCTION_BARRIER='1,1'\n",
      "   KMP_REDUCTION_BARRIER_PATTERN='hyper,hyper'\n",
      "   KMP_SCHEDULE='static,balanced;guided,iterative'\n",
      "   KMP_SETTINGS=true\n",
      "   KMP_SPIN_BACKOFF_PARAMS='4096,100'\n",
      "   KMP_STACKOFFSET=64\n",
      "   KMP_STACKPAD=0\n",
      "   KMP_STACKSIZE=8M\n",
      "   KMP_STORAGE_MAP=false\n",
      "   KMP_TASKING=2\n",
      "   KMP_TASKLOOP_MIN_TASKS=0\n",
      "   KMP_TASK_STEALING_CONSTRAINT=1\n",
      "   KMP_TEAMS_THREAD_LIMIT=4\n",
      "   KMP_TOPOLOGY_METHOD=all\n",
      "   KMP_USE_YIELD=1\n",
      "   KMP_VERSION=false\n",
      "   KMP_WARNINGS=false\n",
      "   OMP_AFFINITY_FORMAT='OMP: pid %P tid %i thread %n bound to OS proc set {%A}'\n",
      "   OMP_ALLOCATOR=omp_default_mem_alloc\n",
      "   OMP_CANCELLATION=false\n",
      "   OMP_DEFAULT_DEVICE=0\n",
      "   OMP_DISPLAY_AFFINITY=false\n",
      "   OMP_DISPLAY_ENV=false\n",
      "   OMP_DYNAMIC=false\n",
      "   OMP_MAX_ACTIVE_LEVELS=1\n",
      "   OMP_MAX_TASK_PRIORITY=0\n",
      "   OMP_NESTED: deprecated; max-active-levels-var=1\n",
      "   OMP_NUM_THREADS: value is not defined\n",
      "   OMP_PLACES: value is not defined\n",
      "   OMP_PROC_BIND='intel'\n",
      "   OMP_SCHEDULE='static'\n",
      "   OMP_STACKSIZE=8M\n",
      "   OMP_TARGET_OFFLOAD=DEFAULT\n",
      "   OMP_THREAD_LIMIT=2147483647\n",
      "   OMP_WAIT_POLICY=PASSIVE\n",
      "   KMP_AFFINITY='verbose,warnings,respect,granularity=fine,compact,1,0'\n",
      "\n",
      "2021-11-10 18:34:29.566246: I tensorflow/core/common_runtime/process_util.cc:146] Creating new thread pool with default inter op setting: 2. Tune using inter_op_parallelism_threads for best performance.\n"
     ]
    }
   ],
   "source": [
    "model = Sequential()\n",
    "model.add(Conv2D(32, kernel_size=(4, 4),activation='linear',input_shape=(20,10,1),padding='same'))\n",
    "model.add(LeakyReLU(alpha=0.1))\n",
    "model.add(MaxPooling2D((2, 2),padding='same'))\n",
    "#model.add(Dropout(0.25))\n",
    "model.add(Conv2D(64, (4, 4), activation='linear',padding='same'))\n",
    "model.add(LeakyReLU(alpha=0.1))\n",
    "model.add(MaxPooling2D(pool_size=(2, 2),padding='same'))\n",
    "#model.add(Dropout(0.25))\n",
    "model.add(Conv2D(128, (4,4), activation='linear',padding='same'))\n",
    "model.add(LeakyReLU(alpha=0.1))                  \n",
    "model.add(MaxPooling2D(pool_size=(2, 2),padding='same'))\n",
    "#model.add(Dropout(0.4))\n",
    "model.add(Flatten())\n",
    "model.add(Dense(256, activation='linear'))\n",
    "model.add(LeakyReLU(alpha=0.1)) \n",
    "#model.add(Dropout(0.3))             \n",
    "model.add(Dense(101, activation='softmax'))"
   ]
  },
  {
   "cell_type": "code",
   "execution_count": 14,
   "id": "aadc11db",
   "metadata": {
    "execution": {
     "iopub.execute_input": "2021-11-10T18:34:29.747177Z",
     "iopub.status.busy": "2021-11-10T18:34:29.746535Z",
     "iopub.status.idle": "2021-11-10T18:34:29.758672Z",
     "shell.execute_reply": "2021-11-10T18:34:29.759174Z",
     "shell.execute_reply.started": "2021-11-10T17:16:08.286670Z"
    },
    "papermill": {
     "duration": 0.039154,
     "end_time": "2021-11-10T18:34:29.759347",
     "exception": false,
     "start_time": "2021-11-10T18:34:29.720193",
     "status": "completed"
    },
    "tags": []
   },
   "outputs": [],
   "source": [
    "model.compile(loss=\"categorical_crossentropy\", optimizer=\"adam\",metrics=['accuracy'])"
   ]
  },
  {
   "cell_type": "code",
   "execution_count": 15,
   "id": "ba35eab2",
   "metadata": {
    "execution": {
     "iopub.execute_input": "2021-11-10T18:34:29.810403Z",
     "iopub.status.busy": "2021-11-10T18:34:29.809771Z",
     "iopub.status.idle": "2021-11-10T18:34:29.820075Z",
     "shell.execute_reply": "2021-11-10T18:34:29.820698Z",
     "shell.execute_reply.started": "2021-11-10T17:16:08.297933Z"
    },
    "papermill": {
     "duration": 0.037695,
     "end_time": "2021-11-10T18:34:29.820878",
     "exception": false,
     "start_time": "2021-11-10T18:34:29.783183",
     "status": "completed"
    },
    "tags": []
   },
   "outputs": [
    {
     "name": "stdout",
     "output_type": "stream",
     "text": [
      "Model: \"sequential\"\n",
      "_________________________________________________________________\n",
      "Layer (type)                 Output Shape              Param #   \n",
      "=================================================================\n",
      "conv2d (Conv2D)              (None, 20, 10, 32)        544       \n",
      "_________________________________________________________________\n",
      "leaky_re_lu (LeakyReLU)      (None, 20, 10, 32)        0         \n",
      "_________________________________________________________________\n",
      "max_pooling2d (MaxPooling2D) (None, 10, 5, 32)         0         \n",
      "_________________________________________________________________\n",
      "conv2d_1 (Conv2D)            (None, 10, 5, 64)         32832     \n",
      "_________________________________________________________________\n",
      "leaky_re_lu_1 (LeakyReLU)    (None, 10, 5, 64)         0         \n",
      "_________________________________________________________________\n",
      "max_pooling2d_1 (MaxPooling2 (None, 5, 3, 64)          0         \n",
      "_________________________________________________________________\n",
      "conv2d_2 (Conv2D)            (None, 5, 3, 128)         131200    \n",
      "_________________________________________________________________\n",
      "leaky_re_lu_2 (LeakyReLU)    (None, 5, 3, 128)         0         \n",
      "_________________________________________________________________\n",
      "max_pooling2d_2 (MaxPooling2 (None, 3, 2, 128)         0         \n",
      "_________________________________________________________________\n",
      "flatten (Flatten)            (None, 768)               0         \n",
      "_________________________________________________________________\n",
      "dense (Dense)                (None, 256)               196864    \n",
      "_________________________________________________________________\n",
      "leaky_re_lu_3 (LeakyReLU)    (None, 256)               0         \n",
      "_________________________________________________________________\n",
      "dense_1 (Dense)              (None, 101)               25957     \n",
      "=================================================================\n",
      "Total params: 387,397\n",
      "Trainable params: 387,397\n",
      "Non-trainable params: 0\n",
      "_________________________________________________________________\n"
     ]
    }
   ],
   "source": [
    "model.summary()"
   ]
  },
  {
   "cell_type": "code",
   "execution_count": 16,
   "id": "5ad73317",
   "metadata": {
    "execution": {
     "iopub.execute_input": "2021-11-10T18:34:29.873629Z",
     "iopub.status.busy": "2021-11-10T18:34:29.872965Z",
     "iopub.status.idle": "2021-11-10T18:34:30.199304Z",
     "shell.execute_reply": "2021-11-10T18:34:30.197826Z",
     "shell.execute_reply.started": "2021-11-10T17:16:08.316929Z"
    },
    "papermill": {
     "duration": 0.35439,
     "end_time": "2021-11-10T18:34:30.199626",
     "exception": true,
     "start_time": "2021-11-10T18:34:29.845236",
     "status": "failed"
    },
    "tags": []
   },
   "outputs": [
    {
     "ename": "NameError",
     "evalue": "name 'fashion_model' is not defined",
     "output_type": "error",
     "traceback": [
      "\u001b[0;31m---------------------------------------------------------------------------\u001b[0m",
      "\u001b[0;31mNameError\u001b[0m                                 Traceback (most recent call last)",
      "\u001b[0;32m/tmp/ipykernel_20/1056904907.py\u001b[0m in \u001b[0;36m<module>\u001b[0;34m\u001b[0m\n\u001b[0;32m----> 1\u001b[0;31m \u001b[0mmodel_train\u001b[0m \u001b[0;34m=\u001b[0m \u001b[0mfashion_model\u001b[0m\u001b[0;34m.\u001b[0m\u001b[0mfit\u001b[0m\u001b[0;34m(\u001b[0m\u001b[0mtrain_x\u001b[0m\u001b[0;34m,\u001b[0m\u001b[0mtrain_y\u001b[0m\u001b[0;34m,\u001b[0m\u001b[0mbatch_size\u001b[0m\u001b[0;34m=\u001b[0m\u001b[0;36m256\u001b[0m\u001b[0;34m,\u001b[0m\u001b[0mepochs\u001b[0m\u001b[0;34m=\u001b[0m\u001b[0;36m20\u001b[0m\u001b[0;34m,\u001b[0m\u001b[0mvalidation_data\u001b[0m\u001b[0;34m=\u001b[0m\u001b[0;34m(\u001b[0m\u001b[0mvalid_x\u001b[0m\u001b[0;34m,\u001b[0m \u001b[0mvalid_y\u001b[0m\u001b[0;34m)\u001b[0m\u001b[0;34m)\u001b[0m\u001b[0;34m\u001b[0m\u001b[0;34m\u001b[0m\u001b[0m\n\u001b[0m",
      "\u001b[0;31mNameError\u001b[0m: name 'fashion_model' is not defined"
     ]
    }
   ],
   "source": [
    "model_train = fashion_model.fit(train_x,train_y,batch_size=256,epochs=20,validation_data=(valid_x, valid_y))"
   ]
  },
  {
   "cell_type": "code",
   "execution_count": null,
   "id": "25f25ba4",
   "metadata": {
    "execution": {
     "iopub.execute_input": "2021-11-10T17:16:49.254353Z",
     "iopub.status.busy": "2021-11-10T17:16:49.254124Z",
     "iopub.status.idle": "2021-11-10T17:16:50.635037Z",
     "shell.execute_reply": "2021-11-10T17:16:50.634063Z",
     "shell.execute_reply.started": "2021-11-10T17:16:49.254326Z"
    },
    "papermill": {
     "duration": null,
     "end_time": null,
     "exception": null,
     "start_time": null,
     "status": "pending"
    },
    "tags": []
   },
   "outputs": [],
   "source": [
    "model.evaluate(train_x,train_y)"
   ]
  },
  {
   "cell_type": "code",
   "execution_count": null,
   "id": "536b9105",
   "metadata": {
    "execution": {
     "iopub.execute_input": "2021-11-10T17:21:25.288623Z",
     "iopub.status.busy": "2021-11-10T17:21:25.288342Z",
     "iopub.status.idle": "2021-11-10T17:21:25.293097Z",
     "shell.execute_reply": "2021-11-10T17:21:25.292237Z",
     "shell.execute_reply.started": "2021-11-10T17:21:25.288596Z"
    },
    "papermill": {
     "duration": null,
     "end_time": null,
     "exception": null,
     "start_time": null,
     "status": "pending"
    },
    "tags": []
   },
   "outputs": [],
   "source": [
    "test_x=test_X.reshape(400,20,10,1)"
   ]
  },
  {
   "cell_type": "code",
   "execution_count": null,
   "id": "aff99e75",
   "metadata": {
    "execution": {
     "iopub.execute_input": "2021-11-10T17:31:04.042774Z",
     "iopub.status.busy": "2021-11-10T17:31:04.042426Z",
     "iopub.status.idle": "2021-11-10T17:31:04.103546Z",
     "shell.execute_reply": "2021-11-10T17:31:04.102846Z",
     "shell.execute_reply.started": "2021-11-10T17:31:04.042738Z"
    },
    "papermill": {
     "duration": null,
     "end_time": null,
     "exception": null,
     "start_time": null,
     "status": "pending"
    },
    "tags": []
   },
   "outputs": [],
   "source": [
    "predict_=model(test_x)"
   ]
  },
  {
   "cell_type": "code",
   "execution_count": null,
   "id": "1cc6f33c",
   "metadata": {
    "execution": {
     "iopub.execute_input": "2021-11-10T17:31:27.635771Z",
     "iopub.status.busy": "2021-11-10T17:31:27.635456Z",
     "iopub.status.idle": "2021-11-10T17:31:27.642931Z",
     "shell.execute_reply": "2021-11-10T17:31:27.642083Z",
     "shell.execute_reply.started": "2021-11-10T17:31:27.635740Z"
    },
    "papermill": {
     "duration": null,
     "end_time": null,
     "exception": null,
     "start_time": null,
     "status": "pending"
    },
    "tags": []
   },
   "outputs": [],
   "source": [
    "predict_"
   ]
  },
  {
   "cell_type": "code",
   "execution_count": null,
   "id": "4f202a0a",
   "metadata": {
    "execution": {
     "iopub.execute_input": "2021-11-10T17:32:19.256612Z",
     "iopub.status.busy": "2021-11-10T17:32:19.256326Z",
     "iopub.status.idle": "2021-11-10T17:32:19.261427Z",
     "shell.execute_reply": "2021-11-10T17:32:19.260424Z",
     "shell.execute_reply.started": "2021-11-10T17:32:19.256581Z"
    },
    "papermill": {
     "duration": null,
     "end_time": null,
     "exception": null,
     "start_time": null,
     "status": "pending"
    },
    "tags": []
   },
   "outputs": [],
   "source": [
    "predict_=np.array(predict_)"
   ]
  },
  {
   "cell_type": "code",
   "execution_count": null,
   "id": "f11acbde",
   "metadata": {
    "execution": {
     "iopub.execute_input": "2021-11-10T17:32:36.272321Z",
     "iopub.status.busy": "2021-11-10T17:32:36.271639Z",
     "iopub.status.idle": "2021-11-10T17:32:36.299975Z",
     "shell.execute_reply": "2021-11-10T17:32:36.299102Z",
     "shell.execute_reply.started": "2021-11-10T17:32:36.272274Z"
    },
    "papermill": {
     "duration": null,
     "end_time": null,
     "exception": null,
     "start_time": null,
     "status": "pending"
    },
    "tags": []
   },
   "outputs": [],
   "source": [
    "y_test=[]\n",
    "n=5\n",
    "for i in range(400):\n",
    "  s=np.argpartition(predict_[i],-n)[-n:]\n",
    "  r=s[np.argsort(predict_[i][s])]\n",
    "  r=list(r)\n",
    "  r.reverse()\n",
    "  string=' '.join(map(str, r))\n",
    "  y_test.append(string)\n",
    "y_test"
   ]
  },
  {
   "cell_type": "code",
   "execution_count": null,
   "id": "8dbde8b1",
   "metadata": {
    "execution": {
     "iopub.execute_input": "2021-11-10T17:36:28.866358Z",
     "iopub.status.busy": "2021-11-10T17:36:28.866034Z",
     "iopub.status.idle": "2021-11-10T17:36:28.879127Z",
     "shell.execute_reply": "2021-11-10T17:36:28.878239Z",
     "shell.execute_reply.started": "2021-11-10T17:36:28.866323Z"
    },
    "papermill": {
     "duration": null,
     "end_time": null,
     "exception": null,
     "start_time": null,
     "status": "pending"
    },
    "tags": []
   },
   "outputs": [],
   "source": [
    "y_test=pd.DataFrame(y_test)\n",
    "y_test"
   ]
  },
  {
   "cell_type": "code",
   "execution_count": null,
   "id": "1ec311c7",
   "metadata": {
    "execution": {
     "iopub.execute_input": "2021-11-10T17:37:12.035746Z",
     "iopub.status.busy": "2021-11-10T17:37:12.034899Z",
     "iopub.status.idle": "2021-11-10T17:37:12.048812Z",
     "shell.execute_reply": "2021-11-10T17:37:12.047885Z",
     "shell.execute_reply.started": "2021-11-10T17:37:12.035679Z"
    },
    "papermill": {
     "duration": null,
     "end_time": null,
     "exception": null,
     "start_time": null,
     "status": "pending"
    },
    "tags": []
   },
   "outputs": [],
   "source": [
    "y_test.columns=[\"labels\"]\n",
    "y_test"
   ]
  },
  {
   "cell_type": "code",
   "execution_count": null,
   "id": "5341af8c",
   "metadata": {
    "execution": {
     "iopub.execute_input": "2021-11-10T17:40:45.170780Z",
     "iopub.status.busy": "2021-11-10T17:40:45.170264Z",
     "iopub.status.idle": "2021-11-10T17:40:45.191865Z",
     "shell.execute_reply": "2021-11-10T17:40:45.191146Z",
     "shell.execute_reply.started": "2021-11-10T17:40:45.170740Z"
    },
    "papermill": {
     "duration": null,
     "end_time": null,
     "exception": null,
     "start_time": null,
     "status": "pending"
    },
    "tags": []
   },
   "outputs": [],
   "source": [
    "df=y_test\n",
    "df.index.name=\"index\"\n",
    "df.to_csv(r\"C:\\Users\\jeeva\\Downloads\\export_dataframe.csv\")\n",
    "print(df)"
   ]
  },
  {
   "cell_type": "code",
   "execution_count": null,
   "id": "37bc9303",
   "metadata": {
    "papermill": {
     "duration": null,
     "end_time": null,
     "exception": null,
     "start_time": null,
     "status": "pending"
    },
    "tags": []
   },
   "outputs": [],
   "source": []
  }
 ],
 "metadata": {
  "kernelspec": {
   "display_name": "Python 3",
   "language": "python",
   "name": "python3"
  },
  "language_info": {
   "codemirror_mode": {
    "name": "ipython",
    "version": 3
   },
   "file_extension": ".py",
   "mimetype": "text/x-python",
   "name": "python",
   "nbconvert_exporter": "python",
   "pygments_lexer": "ipython3",
   "version": "3.7.10"
  },
  "papermill": {
   "default_parameters": {},
   "duration": 21.523334,
   "end_time": "2021-11-10T18:34:33.717007",
   "environment_variables": {},
   "exception": true,
   "input_path": "__notebook__.ipynb",
   "output_path": "__notebook__.ipynb",
   "parameters": {},
   "start_time": "2021-11-10T18:34:12.193673",
   "version": "2.3.3"
  }
 },
 "nbformat": 4,
 "nbformat_minor": 5
}
