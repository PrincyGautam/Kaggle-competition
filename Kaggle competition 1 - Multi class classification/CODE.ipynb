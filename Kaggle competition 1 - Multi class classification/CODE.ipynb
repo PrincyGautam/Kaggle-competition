{
  "nbformat": 4,
  "nbformat_minor": 0,
  "metadata": {
    "colab": {
      "name": "KAGGLE.ipynb",
      "provenance": [],
      "collapsed_sections": []
    },
    "kernelspec": {
      "name": "python3",
      "display_name": "Python 3"
    },
    "language_info": {
      "name": "python"
    }
  },
  "cells": [
    {
      "cell_type": "code",
      "metadata": {
        "id": "B1tLm7S1yPtZ"
      },
      "source": [
        "import numpy as np\n",
        "import pandas as pd\n",
        "d1 = pd.read_csv('/content/testdata - testdata (1).csv')\n",
        "d2 = pd.read_csv('/content/traindata - traindata (1).csv')\n",
        "d3 = pd.read_csv('/content/trainlabel - trainlabel (1).csv')\n",
        "\n",
        "#d1 = X_test\n",
        "#d2 = X_train\n",
        "#d3 = Y_train"
      ],
      "execution_count": 22,
      "outputs": []
    },
    {
      "cell_type": "code",
      "metadata": {
        "id": "fUcVNb6HI19X"
      },
      "source": [
        "x=list(d1.features)\n",
        "for i in range(len(x)):\n",
        "  x[i] = list(map(float,x[i][1:-1].split(\",\")))\n"
      ],
      "execution_count": 23,
      "outputs": []
    },
    {
      "cell_type": "code",
      "metadata": {
        "id": "VcScJgwWI-Z_"
      },
      "source": [
        "y=list(d2.features)\n",
        "for i in range(len(y)):\n",
        "  y[i] = list(map(float,y[i][1:-1].split(\",\")))"
      ],
      "execution_count": 24,
      "outputs": []
    },
    {
      "cell_type": "code",
      "metadata": {
        "id": "aa2V84xD6c9u"
      },
      "source": [
        "from sklearn.svm import SVC\n",
        "model = SVC(kernel = 'rbf', C = 1)\n",
        "model.fit(y,d3['labels'])\n",
        "svm_predictions = model.predict(x)\n",
        "df= pd.DataFrame(svm_predictions)\n",
        "df.to_csv('Output.csv') "
      ],
      "execution_count": 25,
      "outputs": []
    }
  ]
}